{
 "cells": [
  {
   "cell_type": "code",
   "execution_count": 1,
   "metadata": {},
   "outputs": [],
   "source": [
    "import pandas as pd"
   ]
  },
  {
   "cell_type": "code",
   "execution_count": 2,
   "metadata": {},
   "outputs": [
    {
     "data": {
      "text/html": [
       "<div>\n",
       "<style scoped>\n",
       "    .dataframe tbody tr th:only-of-type {\n",
       "        vertical-align: middle;\n",
       "    }\n",
       "\n",
       "    .dataframe tbody tr th {\n",
       "        vertical-align: top;\n",
       "    }\n",
       "\n",
       "    .dataframe thead th {\n",
       "        text-align: right;\n",
       "    }\n",
       "</style>\n",
       "<table border=\"1\" class=\"dataframe\">\n",
       "  <thead>\n",
       "    <tr style=\"text-align: right;\">\n",
       "      <th></th>\n",
       "      <th>nomoridentitas</th>\n",
       "      <th>idpihaklawan</th>\n",
       "      <th>idpelapor3</th>\n",
       "      <th>jeniskelamin</th>\n",
       "      <th>nomorpokokwajibpajak</th>\n",
       "      <th>kewarganegaraan</th>\n",
       "      <th>negarapihaklawan</th>\n",
       "      <th>hubunganpelapor</th>\n",
       "      <th>golonganpihaklawan</th>\n",
       "      <th>tahunlahir</th>\n",
       "      <th>kotakab</th>\n",
       "      <th>NPWP</th>\n",
       "    </tr>\n",
       "  </thead>\n",
       "  <tbody>\n",
       "    <tr>\n",
       "      <th>0</th>\n",
       "      <td>917212</td>\n",
       "      <td>324</td>\n",
       "      <td>234</td>\n",
       "      <td>54</td>\n",
       "      <td>2344</td>\n",
       "      <td>564</td>\n",
       "      <td>876</td>\n",
       "      <td>76</td>\n",
       "      <td>76</td>\n",
       "      <td>1987</td>\n",
       "      <td>767</td>\n",
       "      <td>1212123434</td>\n",
       "    </tr>\n",
       "    <tr>\n",
       "      <th>1</th>\n",
       "      <td>343423</td>\n",
       "      <td>4534</td>\n",
       "      <td>324</td>\n",
       "      <td>5464</td>\n",
       "      <td>56</td>\n",
       "      <td>323</td>\n",
       "      <td>786</td>\n",
       "      <td>865546</td>\n",
       "      <td>988</td>\n",
       "      <td>1994</td>\n",
       "      <td>2387</td>\n",
       "      <td>1245347845</td>\n",
       "    </tr>\n",
       "    <tr>\n",
       "      <th>2</th>\n",
       "      <td>34534</td>\n",
       "      <td>324</td>\n",
       "      <td>1234</td>\n",
       "      <td>234</td>\n",
       "      <td>56</td>\n",
       "      <td>7856434</td>\n",
       "      <td>896754</td>\n",
       "      <td>76548</td>\n",
       "      <td>88676764</td>\n",
       "      <td>1999</td>\n",
       "      <td>8672</td>\n",
       "      <td>6745234567</td>\n",
       "    </tr>\n",
       "    <tr>\n",
       "      <th>3</th>\n",
       "      <td>34511234</td>\n",
       "      <td>324</td>\n",
       "      <td>121234</td>\n",
       "      <td>2334</td>\n",
       "      <td>5126</td>\n",
       "      <td>781356434</td>\n",
       "      <td>8961754</td>\n",
       "      <td>765148</td>\n",
       "      <td>881676764</td>\n",
       "      <td>1979</td>\n",
       "      <td>86472</td>\n",
       "      <td>6714521456</td>\n",
       "    </tr>\n",
       "  </tbody>\n",
       "</table>\n",
       "</div>"
      ],
      "text/plain": [
       "   nomoridentitas  idpihaklawan  idpelapor3  jeniskelamin  \\\n",
       "0          917212           324         234            54   \n",
       "1          343423          4534         324          5464   \n",
       "2           34534           324        1234           234   \n",
       "3        34511234           324      121234          2334   \n",
       "\n",
       "   nomorpokokwajibpajak  kewarganegaraan  negarapihaklawan  hubunganpelapor  \\\n",
       "0                  2344              564               876               76   \n",
       "1                    56              323               786           865546   \n",
       "2                    56          7856434            896754            76548   \n",
       "3                  5126        781356434           8961754           765148   \n",
       "\n",
       "   golonganpihaklawan  tahunlahir  kotakab        NPWP  \n",
       "0                  76        1987      767  1212123434  \n",
       "1                 988        1994     2387  1245347845  \n",
       "2            88676764        1999     8672  6745234567  \n",
       "3           881676764        1979    86472  6714521456  "
      ]
     },
     "execution_count": 2,
     "metadata": {},
     "output_type": "execute_result"
    }
   ],
   "source": [
    "df = pd.read_csv('contoh.csv')\n",
    "df"
   ]
  },
  {
   "cell_type": "code",
   "execution_count": 3,
   "metadata": {},
   "outputs": [
    {
     "data": {
      "text/plain": [
       "'{\"nomoridentitas\":{\"0\":917212,\"1\":343423,\"2\":34534,\"3\":34511234},\"idpihaklawan\":{\"0\":324,\"1\":4534,\"2\":324,\"3\":324},\"idpelapor3\":{\"0\":234,\"1\":324,\"2\":1234,\"3\":121234},\"jeniskelamin\":{\"0\":54,\"1\":5464,\"2\":234,\"3\":2334},\"nomorpokokwajibpajak\":{\"0\":2344,\"1\":56,\"2\":56,\"3\":5126},\"kewarganegaraan\":{\"0\":564,\"1\":323,\"2\":7856434,\"3\":781356434},\"negarapihaklawan\":{\"0\":876,\"1\":786,\"2\":896754,\"3\":8961754},\"hubunganpelapor\":{\"0\":76,\"1\":865546,\"2\":76548,\"3\":765148},\"golonganpihaklawan\":{\"0\":76,\"1\":988,\"2\":88676764,\"3\":881676764},\"tahunlahir\":{\"0\":1987,\"1\":1994,\"2\":1999,\"3\":1979},\"kotakab\":{\"0\":767,\"1\":2387,\"2\":8672,\"3\":86472},\"NPWP\":{\"0\":1212123434,\"1\":1245347845,\"2\":6745234567,\"3\":6714521456}}'"
      ]
     },
     "execution_count": 3,
     "metadata": {},
     "output_type": "execute_result"
    }
   ],
   "source": [
    "jso = df.to_json()\n",
    "jso"
   ]
  },
  {
   "cell_type": "code",
   "execution_count": 11,
   "metadata": {},
   "outputs": [],
   "source": [
    "def get_data():\n",
    "    dt = {\"nomoridentitas\":{\"0\":917212,\"1\":343423,\"2\":34534,\"3\":34511234},\"idpihaklawan\":{\"0\":324,\"1\":4534,\"2\":324,\"3\":324},\"idpelapor3\":{\"0\":234,\"1\":324,\"2\":1234,\"3\":121234},\"jeniskelamin\":{\"0\":54,\"1\":5464,\"2\":234,\"3\":2334},\"nomorpokokwajibpajak\":{\"0\":2344,\"1\":56,\"2\":56,\"3\":5126},\"kewarganegaraan\":{\"0\":564,\"1\":323,\"2\":7856434,\"3\":781356434},\"negarapihaklawan\":{\"0\":876,\"1\":786,\"2\":896754,\"3\":8961754},\"hubunganpelapor\":{\"0\":76,\"1\":865546,\"2\":76548,\"3\":765148},\"golonganpihaklawan\":{\"0\":76,\"1\":988,\"2\":88676764,\"3\":881676764},\"tahunlahir\":{\"0\":1987,\"1\":1994,\"2\":1999,\"3\":1979},\"kotakab\":{\"0\":767,\"1\":2387,\"2\":8672,\"3\":86472},\"NPWP\":{\"0\":1212123434,\"1\":1245347845,\"2\":6745234567,\"3\":6714521456}}\n",
    "    df = pd.DataFrame(dt)\n",
    "    return df"
   ]
  },
  {
   "cell_type": "code",
   "execution_count": 12,
   "metadata": {},
   "outputs": [
    {
     "data": {
      "text/html": [
       "<div>\n",
       "<style scoped>\n",
       "    .dataframe tbody tr th:only-of-type {\n",
       "        vertical-align: middle;\n",
       "    }\n",
       "\n",
       "    .dataframe tbody tr th {\n",
       "        vertical-align: top;\n",
       "    }\n",
       "\n",
       "    .dataframe thead th {\n",
       "        text-align: right;\n",
       "    }\n",
       "</style>\n",
       "<table border=\"1\" class=\"dataframe\">\n",
       "  <thead>\n",
       "    <tr style=\"text-align: right;\">\n",
       "      <th></th>\n",
       "      <th>nomoridentitas</th>\n",
       "      <th>idpihaklawan</th>\n",
       "      <th>idpelapor3</th>\n",
       "      <th>jeniskelamin</th>\n",
       "      <th>nomorpokokwajibpajak</th>\n",
       "      <th>kewarganegaraan</th>\n",
       "      <th>negarapihaklawan</th>\n",
       "      <th>hubunganpelapor</th>\n",
       "      <th>golonganpihaklawan</th>\n",
       "      <th>tahunlahir</th>\n",
       "      <th>kotakab</th>\n",
       "      <th>NPWP</th>\n",
       "    </tr>\n",
       "  </thead>\n",
       "  <tbody>\n",
       "    <tr>\n",
       "      <th>0</th>\n",
       "      <td>917212</td>\n",
       "      <td>324</td>\n",
       "      <td>234</td>\n",
       "      <td>54</td>\n",
       "      <td>2344</td>\n",
       "      <td>564</td>\n",
       "      <td>876</td>\n",
       "      <td>76</td>\n",
       "      <td>76</td>\n",
       "      <td>1987</td>\n",
       "      <td>767</td>\n",
       "      <td>1212123434</td>\n",
       "    </tr>\n",
       "    <tr>\n",
       "      <th>1</th>\n",
       "      <td>343423</td>\n",
       "      <td>4534</td>\n",
       "      <td>324</td>\n",
       "      <td>5464</td>\n",
       "      <td>56</td>\n",
       "      <td>323</td>\n",
       "      <td>786</td>\n",
       "      <td>865546</td>\n",
       "      <td>988</td>\n",
       "      <td>1994</td>\n",
       "      <td>2387</td>\n",
       "      <td>1245347845</td>\n",
       "    </tr>\n",
       "    <tr>\n",
       "      <th>2</th>\n",
       "      <td>34534</td>\n",
       "      <td>324</td>\n",
       "      <td>1234</td>\n",
       "      <td>234</td>\n",
       "      <td>56</td>\n",
       "      <td>7856434</td>\n",
       "      <td>896754</td>\n",
       "      <td>76548</td>\n",
       "      <td>88676764</td>\n",
       "      <td>1999</td>\n",
       "      <td>8672</td>\n",
       "      <td>6745234567</td>\n",
       "    </tr>\n",
       "    <tr>\n",
       "      <th>3</th>\n",
       "      <td>34511234</td>\n",
       "      <td>324</td>\n",
       "      <td>121234</td>\n",
       "      <td>2334</td>\n",
       "      <td>5126</td>\n",
       "      <td>781356434</td>\n",
       "      <td>8961754</td>\n",
       "      <td>765148</td>\n",
       "      <td>881676764</td>\n",
       "      <td>1979</td>\n",
       "      <td>86472</td>\n",
       "      <td>6714521456</td>\n",
       "    </tr>\n",
       "  </tbody>\n",
       "</table>\n",
       "</div>"
      ],
      "text/plain": [
       "   nomoridentitas  idpihaklawan  idpelapor3  jeniskelamin  \\\n",
       "0          917212           324         234            54   \n",
       "1          343423          4534         324          5464   \n",
       "2           34534           324        1234           234   \n",
       "3        34511234           324      121234          2334   \n",
       "\n",
       "   nomorpokokwajibpajak  kewarganegaraan  negarapihaklawan  hubunganpelapor  \\\n",
       "0                  2344              564               876               76   \n",
       "1                    56              323               786           865546   \n",
       "2                    56          7856434            896754            76548   \n",
       "3                  5126        781356434           8961754           765148   \n",
       "\n",
       "   golonganpihaklawan  tahunlahir  kotakab        NPWP  \n",
       "0                  76        1987      767  1212123434  \n",
       "1                 988        1994     2387  1245347845  \n",
       "2            88676764        1999     8672  6745234567  \n",
       "3           881676764        1979    86472  6714521456  "
      ]
     },
     "execution_count": 12,
     "metadata": {},
     "output_type": "execute_result"
    }
   ],
   "source": [
    "get_data()"
   ]
  },
  {
   "cell_type": "code",
   "execution_count": 13,
   "metadata": {},
   "outputs": [
    {
     "data": {
      "text/html": [
       "<div>\n",
       "<style scoped>\n",
       "    .dataframe tbody tr th:only-of-type {\n",
       "        vertical-align: middle;\n",
       "    }\n",
       "\n",
       "    .dataframe tbody tr th {\n",
       "        vertical-align: top;\n",
       "    }\n",
       "\n",
       "    .dataframe thead th {\n",
       "        text-align: right;\n",
       "    }\n",
       "</style>\n",
       "<table border=\"1\" class=\"dataframe\">\n",
       "  <thead>\n",
       "    <tr style=\"text-align: right;\">\n",
       "      <th></th>\n",
       "      <th>nomoridentitas</th>\n",
       "      <th>idpihaklawan</th>\n",
       "      <th>idpelapor3</th>\n",
       "      <th>jeniskelamin</th>\n",
       "      <th>nomorpokokwajibpajak</th>\n",
       "      <th>kewarganegaraan</th>\n",
       "      <th>negarapihaklawan</th>\n",
       "      <th>hubunganpelapor</th>\n",
       "      <th>golonganpihaklawan</th>\n",
       "      <th>tahunlahir</th>\n",
       "      <th>kotakab</th>\n",
       "      <th>NPWP</th>\n",
       "    </tr>\n",
       "  </thead>\n",
       "  <tbody>\n",
       "    <tr>\n",
       "      <th>0</th>\n",
       "      <td>917212</td>\n",
       "      <td>324</td>\n",
       "      <td>234</td>\n",
       "      <td>54</td>\n",
       "      <td>2344</td>\n",
       "      <td>564</td>\n",
       "      <td>876</td>\n",
       "      <td>76</td>\n",
       "      <td>76</td>\n",
       "      <td>1987</td>\n",
       "      <td>767</td>\n",
       "      <td>1212123434</td>\n",
       "    </tr>\n",
       "    <tr>\n",
       "      <th>1</th>\n",
       "      <td>343423</td>\n",
       "      <td>4534</td>\n",
       "      <td>324</td>\n",
       "      <td>5464</td>\n",
       "      <td>56</td>\n",
       "      <td>323</td>\n",
       "      <td>786</td>\n",
       "      <td>865546</td>\n",
       "      <td>988</td>\n",
       "      <td>1994</td>\n",
       "      <td>2387</td>\n",
       "      <td>1245347845</td>\n",
       "    </tr>\n",
       "    <tr>\n",
       "      <th>2</th>\n",
       "      <td>34534</td>\n",
       "      <td>324</td>\n",
       "      <td>1234</td>\n",
       "      <td>234</td>\n",
       "      <td>56</td>\n",
       "      <td>7856434</td>\n",
       "      <td>896754</td>\n",
       "      <td>76548</td>\n",
       "      <td>88676764</td>\n",
       "      <td>1999</td>\n",
       "      <td>8672</td>\n",
       "      <td>6745234567</td>\n",
       "    </tr>\n",
       "    <tr>\n",
       "      <th>3</th>\n",
       "      <td>34511234</td>\n",
       "      <td>324</td>\n",
       "      <td>121234</td>\n",
       "      <td>2334</td>\n",
       "      <td>5126</td>\n",
       "      <td>781356434</td>\n",
       "      <td>8961754</td>\n",
       "      <td>765148</td>\n",
       "      <td>881676764</td>\n",
       "      <td>1979</td>\n",
       "      <td>86472</td>\n",
       "      <td>6714521456</td>\n",
       "    </tr>\n",
       "  </tbody>\n",
       "</table>\n",
       "</div>"
      ],
      "text/plain": [
       "   nomoridentitas  idpihaklawan  idpelapor3  jeniskelamin  \\\n",
       "0          917212           324         234            54   \n",
       "1          343423          4534         324          5464   \n",
       "2           34534           324        1234           234   \n",
       "3        34511234           324      121234          2334   \n",
       "\n",
       "   nomorpokokwajibpajak  kewarganegaraan  negarapihaklawan  hubunganpelapor  \\\n",
       "0                  2344              564               876               76   \n",
       "1                    56              323               786           865546   \n",
       "2                    56          7856434            896754            76548   \n",
       "3                  5126        781356434           8961754           765148   \n",
       "\n",
       "   golonganpihaklawan  tahunlahir  kotakab        NPWP  \n",
       "0                  76        1987      767  1212123434  \n",
       "1                 988        1994     2387  1245347845  \n",
       "2            88676764        1999     8672  6745234567  \n",
       "3           881676764        1979    86472  6714521456  "
      ]
     },
     "execution_count": 13,
     "metadata": {},
     "output_type": "execute_result"
    }
   ],
   "source": [
    "df = get_data()\n",
    "df"
   ]
  },
  {
   "cell_type": "code",
   "execution_count": 14,
   "metadata": {},
   "outputs": [],
   "source": [
    "df_2 = df.copy()"
   ]
  },
  {
   "cell_type": "code",
   "execution_count": 15,
   "metadata": {},
   "outputs": [
    {
     "data": {
      "text/html": [
       "<div>\n",
       "<style scoped>\n",
       "    .dataframe tbody tr th:only-of-type {\n",
       "        vertical-align: middle;\n",
       "    }\n",
       "\n",
       "    .dataframe tbody tr th {\n",
       "        vertical-align: top;\n",
       "    }\n",
       "\n",
       "    .dataframe thead th {\n",
       "        text-align: right;\n",
       "    }\n",
       "</style>\n",
       "<table border=\"1\" class=\"dataframe\">\n",
       "  <thead>\n",
       "    <tr style=\"text-align: right;\">\n",
       "      <th></th>\n",
       "      <th>nomoridentitas</th>\n",
       "      <th>idpihaklawan</th>\n",
       "      <th>idpelapor3</th>\n",
       "      <th>jeniskelamin</th>\n",
       "      <th>nomorpokokwajibpajak</th>\n",
       "      <th>kewarganegaraan</th>\n",
       "      <th>negarapihaklawan</th>\n",
       "      <th>hubunganpelapor</th>\n",
       "      <th>golonganpihaklawan</th>\n",
       "      <th>tahunlahir</th>\n",
       "      <th>kotakab</th>\n",
       "      <th>NPWP</th>\n",
       "    </tr>\n",
       "  </thead>\n",
       "  <tbody>\n",
       "    <tr>\n",
       "      <th>0</th>\n",
       "      <td>917212</td>\n",
       "      <td>324</td>\n",
       "      <td>234</td>\n",
       "      <td>54</td>\n",
       "      <td>2344</td>\n",
       "      <td>564</td>\n",
       "      <td>876</td>\n",
       "      <td>76</td>\n",
       "      <td>76</td>\n",
       "      <td>1987</td>\n",
       "      <td>767</td>\n",
       "      <td>1212123434</td>\n",
       "    </tr>\n",
       "    <tr>\n",
       "      <th>1</th>\n",
       "      <td>343423</td>\n",
       "      <td>4534</td>\n",
       "      <td>324</td>\n",
       "      <td>5464</td>\n",
       "      <td>56</td>\n",
       "      <td>323</td>\n",
       "      <td>786</td>\n",
       "      <td>865546</td>\n",
       "      <td>988</td>\n",
       "      <td>1994</td>\n",
       "      <td>2387</td>\n",
       "      <td>1245347845</td>\n",
       "    </tr>\n",
       "    <tr>\n",
       "      <th>2</th>\n",
       "      <td>34534</td>\n",
       "      <td>324</td>\n",
       "      <td>1234</td>\n",
       "      <td>234</td>\n",
       "      <td>56</td>\n",
       "      <td>7856434</td>\n",
       "      <td>896754</td>\n",
       "      <td>76548</td>\n",
       "      <td>88676764</td>\n",
       "      <td>1999</td>\n",
       "      <td>8672</td>\n",
       "      <td>6745234567</td>\n",
       "    </tr>\n",
       "    <tr>\n",
       "      <th>3</th>\n",
       "      <td>34511234</td>\n",
       "      <td>324</td>\n",
       "      <td>121234</td>\n",
       "      <td>2334</td>\n",
       "      <td>5126</td>\n",
       "      <td>781356434</td>\n",
       "      <td>8961754</td>\n",
       "      <td>765148</td>\n",
       "      <td>881676764</td>\n",
       "      <td>1979</td>\n",
       "      <td>86472</td>\n",
       "      <td>6714521456</td>\n",
       "    </tr>\n",
       "  </tbody>\n",
       "</table>\n",
       "</div>"
      ],
      "text/plain": [
       "   nomoridentitas  idpihaklawan  idpelapor3  jeniskelamin  \\\n",
       "0          917212           324         234            54   \n",
       "1          343423          4534         324          5464   \n",
       "2           34534           324        1234           234   \n",
       "3        34511234           324      121234          2334   \n",
       "\n",
       "   nomorpokokwajibpajak  kewarganegaraan  negarapihaklawan  hubunganpelapor  \\\n",
       "0                  2344              564               876               76   \n",
       "1                    56              323               786           865546   \n",
       "2                    56          7856434            896754            76548   \n",
       "3                  5126        781356434           8961754           765148   \n",
       "\n",
       "   golonganpihaklawan  tahunlahir  kotakab        NPWP  \n",
       "0                  76        1987      767  1212123434  \n",
       "1                 988        1994     2387  1245347845  \n",
       "2            88676764        1999     8672  6745234567  \n",
       "3           881676764        1979    86472  6714521456  "
      ]
     },
     "execution_count": 15,
     "metadata": {},
     "output_type": "execute_result"
    }
   ],
   "source": [
    "df_2"
   ]
  },
  {
   "cell_type": "code",
   "execution_count": null,
   "metadata": {},
   "outputs": [],
   "source": [
    "df_3 = df[['idpelapor3']]"
   ]
  },
  {
   "cell_type": "code",
   "execution_count": null,
   "metadata": {},
   "outputs": [],
   "source": [
    "type(df_3)"
   ]
  },
  {
   "cell_type": "code",
   "execution_count": 20,
   "metadata": {},
   "outputs": [],
   "source": [
    "from numpy import NaN\n",
    "import pandas as pd\n",
    "import warnings\n",
    "warnings.simplefilter(action='ignore')\n",
    "from streamlit_option_menu import option_menu\n",
    "import streamlit as st\n",
    "import util\n",
    "import db\n",
    "import auth\n",
    "import os\n",
    "from pandas_geojson import read_geojson\n",
    "import plotly.graph_objects as go\n",
    "from sklearn import preprocessing \n",
    "from sklearn.cluster import KMeans\n",
    "from sklearn.decomposition import PCA\n",
    "import matplotlib.pyplot as plt\n",
    "import numpy as np\n",
    "\n",
    "\n",
    "# Konfigurasi Pilihan Menu\n",
    "selected = option_menu(\n",
    "    menu_title=None,\n",
    "    options=[\"Pihak Lawan\"],\n",
    "    icons=[\"cart3\",\"credit-card\",\"map\"],\n",
    "    menu_icon=\"cast\",\n",
    "    default_index=0,\n",
    "    orientation=\"horizontal\")\n",
    "\n",
    "# Data Clustering Bank\n",
    "if selected == \"Pihak Lawan\":\n",
    "\n",
    "    # Praproses Data\n",
    "    df = db.get_data()\n",
    "    label_encoder = preprocessing.LabelEncoder()\n",
    "    df_awal = df.copy()\n",
    "    df['jeniskelamin'] = label_encoder.fit_transform(df['jeniskelamin'])\n",
    "    df['kewarganegaraan'] = label_encoder.fit_transform(df['kewarganegaraan'])\n",
    "    df['hubunganpelapor'] = label_encoder.fit_transform(df['hubunganpelapor'])\n",
    "    df['negarapihaklawan'] = label_encoder.fit_transform(df['negarapihaklawan'])\n",
    "    df['golonganpihaklawan'] = label_encoder.fit_transform(df['golonganpihaklawan'])\n",
    "\n",
    "    df.rename(columns = {'nomoridentitas':'Variabel'}, inplace = True)\n",
    "    df = df.set_index('Variabel')\n",
    "\n",
    "    df1 = df[['idpihaklawan']]\n",
    "\n",
    "    df2 = df[['idpelapor3']]\n",
    "\n",
    "    df3 = df[['jeniskelamin']]\n",
    "    \n",
    "    df4 = df[['nomorpokokwajibpajak']]\n",
    "\n",
    "    df5 = df[['kewarganegaraan']]\n",
    "\n",
    "    df6 = df[['negarapihaklawan']]\n",
    "\n",
    "    df7 = df[['hubunganpelapor']]\n",
    "\n",
    "    df8 = df[['golonganpihaklawan']]\n",
    "\n",
    "    df9 = df[['tahunlahir']]\n",
    "\n",
    "    df10 = df[['kotakab']]\n",
    "\n",
    "    # Dictionary Variabel\n",
    "    dict_pos = {\n",
    "    'ID Pihak Lawan': df1,\n",
    "    'ID Pelapor 3': df2,\n",
    "    'Jenis Kelamin': df3,\n",
    "    'NPWP': df4,\n",
    "    'Kewarganegaraan': df5,\n",
    "    'Negara Pihak Lawan': df6,\n",
    "    'Hubungan Pelapor': df7,\n",
    "    'Golongan Pihak Lawan': df8,\n",
    "    'Tahun Lahir': df9,\n",
    "    'Kota Kabupaten': df10}\n",
    "\n",
    "    # Konfigurasi Sidebar\n",
    "    options = st.sidebar.multiselect('Variabel :', ['ID Pihak Lawan','ID Pelapor 3','Jenis Kelamin','NPWP','Kewarganegaraan','Negara Pihak Lawan','Hubungan Pelapor','Golongan Pihak Lawan','Tahun Lahir','Kota Kabupaten'], ['ID Pihak Lawan','ID Pelapor 3','Jenis Kelamin','NPWP','Kewarganegaraan','Negara Pihak Lawan','Hubungan Pelapor','Golongan Pihak Lawan','Tahun Lahir','Kota Kabupaten'])\n",
    "    threshold = st.sidebar.number_input('Minimum Nilai Kecocokan : ', value = 0.7, step = 0.05)\n",
    "\n",
    "    \n",
    "    # Tabel Data Awal\n",
    "    st.dataframe(df_awal) \n",
    "    st.dataframe(df) \n",
    "\n",
    "    pilihan = []\n",
    "    for input in options:\n",
    "        pilihan.append(dict_pos[input])\n",
    "    \n",
    "    df_variabel = util.clustering(pilihan)\n",
    "    \n",
    "    # Tabel Hasil Clustering\n",
    "    df_variabel"
   ]
  },
  {
   "cell_type": "code",
   "execution_count": 21,
   "metadata": {},
   "outputs": [
    {
     "data": {
      "text/html": [
       "<div>\n",
       "<style scoped>\n",
       "    .dataframe tbody tr th:only-of-type {\n",
       "        vertical-align: middle;\n",
       "    }\n",
       "\n",
       "    .dataframe tbody tr th {\n",
       "        vertical-align: top;\n",
       "    }\n",
       "\n",
       "    .dataframe thead th {\n",
       "        text-align: right;\n",
       "    }\n",
       "</style>\n",
       "<table border=\"1\" class=\"dataframe\">\n",
       "  <thead>\n",
       "    <tr style=\"text-align: right;\">\n",
       "      <th></th>\n",
       "      <th>Cluster idpihaklawan</th>\n",
       "      <th>Cluster idpelapor3</th>\n",
       "      <th>Cluster jeniskelamin</th>\n",
       "      <th>Cluster nomorpokokwajibpajak</th>\n",
       "      <th>Cluster kewarganegaraan</th>\n",
       "      <th>Cluster negarapihaklawan</th>\n",
       "      <th>Cluster hubunganpelapor</th>\n",
       "      <th>Cluster golonganpihaklawan</th>\n",
       "      <th>Cluster tahunlahir</th>\n",
       "      <th>Cluster kotakab</th>\n",
       "      <th>Fuzzy</th>\n",
       "    </tr>\n",
       "    <tr>\n",
       "      <th>Variabel</th>\n",
       "      <th></th>\n",
       "      <th></th>\n",
       "      <th></th>\n",
       "      <th></th>\n",
       "      <th></th>\n",
       "      <th></th>\n",
       "      <th></th>\n",
       "      <th></th>\n",
       "      <th></th>\n",
       "      <th></th>\n",
       "      <th></th>\n",
       "    </tr>\n",
       "  </thead>\n",
       "  <tbody>\n",
       "    <tr>\n",
       "      <th>917212</th>\n",
       "      <td>0</td>\n",
       "      <td>0</td>\n",
       "      <td>0</td>\n",
       "      <td>0</td>\n",
       "      <td>0</td>\n",
       "      <td>0</td>\n",
       "      <td>0</td>\n",
       "      <td>0</td>\n",
       "      <td>0</td>\n",
       "      <td>0</td>\n",
       "      <td>aaaaaaaaaa</td>\n",
       "    </tr>\n",
       "    <tr>\n",
       "      <th>343423</th>\n",
       "      <td>1</td>\n",
       "      <td>3</td>\n",
       "      <td>1</td>\n",
       "      <td>2</td>\n",
       "      <td>3</td>\n",
       "      <td>3</td>\n",
       "      <td>1</td>\n",
       "      <td>3</td>\n",
       "      <td>3</td>\n",
       "      <td>3</td>\n",
       "      <td>bdbcddbddd</td>\n",
       "    </tr>\n",
       "    <tr>\n",
       "      <th>34534</th>\n",
       "      <td>0</td>\n",
       "      <td>2</td>\n",
       "      <td>3</td>\n",
       "      <td>2</td>\n",
       "      <td>2</td>\n",
       "      <td>2</td>\n",
       "      <td>3</td>\n",
       "      <td>2</td>\n",
       "      <td>1</td>\n",
       "      <td>2</td>\n",
       "      <td>acdcccdcbc</td>\n",
       "    </tr>\n",
       "    <tr>\n",
       "      <th>34511234</th>\n",
       "      <td>0</td>\n",
       "      <td>1</td>\n",
       "      <td>2</td>\n",
       "      <td>1</td>\n",
       "      <td>1</td>\n",
       "      <td>1</td>\n",
       "      <td>2</td>\n",
       "      <td>1</td>\n",
       "      <td>2</td>\n",
       "      <td>1</td>\n",
       "      <td>abcbbbcbcb</td>\n",
       "    </tr>\n",
       "  </tbody>\n",
       "</table>\n",
       "</div>"
      ],
      "text/plain": [
       "          Cluster idpihaklawan  Cluster idpelapor3  Cluster jeniskelamin  \\\n",
       "Variabel                                                                   \n",
       "917212                       0                   0                     0   \n",
       "343423                       1                   3                     1   \n",
       "34534                        0                   2                     3   \n",
       "34511234                     0                   1                     2   \n",
       "\n",
       "          Cluster nomorpokokwajibpajak  Cluster kewarganegaraan  \\\n",
       "Variabel                                                          \n",
       "917212                               0                        0   \n",
       "343423                               2                        3   \n",
       "34534                                2                        2   \n",
       "34511234                             1                        1   \n",
       "\n",
       "          Cluster negarapihaklawan  Cluster hubunganpelapor  \\\n",
       "Variabel                                                      \n",
       "917212                           0                        0   \n",
       "343423                           3                        1   \n",
       "34534                            2                        3   \n",
       "34511234                         1                        2   \n",
       "\n",
       "          Cluster golonganpihaklawan  Cluster tahunlahir  Cluster kotakab  \\\n",
       "Variabel                                                                    \n",
       "917212                             0                   0                0   \n",
       "343423                             3                   3                3   \n",
       "34534                              2                   1                2   \n",
       "34511234                           1                   2                1   \n",
       "\n",
       "               Fuzzy  \n",
       "Variabel              \n",
       "917212    aaaaaaaaaa  \n",
       "343423    bdbcddbddd  \n",
       "34534     acdcccdcbc  \n",
       "34511234  abcbbbcbcb  "
      ]
     },
     "execution_count": 21,
     "metadata": {},
     "output_type": "execute_result"
    }
   ],
   "source": [
    "df_variabel"
   ]
  },
  {
   "cell_type": "code",
   "execution_count": 23,
   "metadata": {},
   "outputs": [
    {
     "data": {
      "text/html": [
       "<div>\n",
       "<style scoped>\n",
       "    .dataframe tbody tr th:only-of-type {\n",
       "        vertical-align: middle;\n",
       "    }\n",
       "\n",
       "    .dataframe tbody tr th {\n",
       "        vertical-align: top;\n",
       "    }\n",
       "\n",
       "    .dataframe thead th {\n",
       "        text-align: right;\n",
       "    }\n",
       "</style>\n",
       "<table border=\"1\" class=\"dataframe\">\n",
       "  <thead>\n",
       "    <tr style=\"text-align: right;\">\n",
       "      <th></th>\n",
       "      <th>aaaaaaaaaa</th>\n",
       "      <th>bdbcddbddd</th>\n",
       "      <th>acdcccdcbc</th>\n",
       "      <th>abcbbbcbcb</th>\n",
       "    </tr>\n",
       "  </thead>\n",
       "  <tbody>\n",
       "    <tr>\n",
       "      <th>aaaaaaaaaa</th>\n",
       "      <td>NaN</td>\n",
       "      <td>NaN</td>\n",
       "      <td>NaN</td>\n",
       "      <td>NaN</td>\n",
       "    </tr>\n",
       "    <tr>\n",
       "      <th>bdbcddbddd</th>\n",
       "      <td>NaN</td>\n",
       "      <td>NaN</td>\n",
       "      <td>NaN</td>\n",
       "      <td>NaN</td>\n",
       "    </tr>\n",
       "    <tr>\n",
       "      <th>acdcccdcbc</th>\n",
       "      <td>NaN</td>\n",
       "      <td>NaN</td>\n",
       "      <td>NaN</td>\n",
       "      <td>NaN</td>\n",
       "    </tr>\n",
       "    <tr>\n",
       "      <th>abcbbbcbcb</th>\n",
       "      <td>NaN</td>\n",
       "      <td>NaN</td>\n",
       "      <td>NaN</td>\n",
       "      <td>NaN</td>\n",
       "    </tr>\n",
       "  </tbody>\n",
       "</table>\n",
       "</div>"
      ],
      "text/plain": [
       "           aaaaaaaaaa bdbcddbddd acdcccdcbc abcbbbcbcb\n",
       "aaaaaaaaaa        NaN        NaN        NaN        NaN\n",
       "bdbcddbddd        NaN        NaN        NaN        NaN\n",
       "acdcccdcbc        NaN        NaN        NaN        NaN\n",
       "abcbbbcbcb        NaN        NaN        NaN        NaN"
      ]
     },
     "execution_count": 23,
     "metadata": {},
     "output_type": "execute_result"
    }
   ],
   "source": [
    "df_matrix_fuzzy = pd.DataFrame(index=list(df_variabel['Fuzzy']), columns=list(df_variabel['Fuzzy']))\n",
    "df_matrix_fuzzy"
   ]
  },
  {
   "cell_type": "code",
   "execution_count": 24,
   "metadata": {},
   "outputs": [],
   "source": [
    "list_fuzzy = list(df_variabel['Fuzzy'])"
   ]
  },
  {
   "cell_type": "code",
   "execution_count": 26,
   "metadata": {},
   "outputs": [
    {
     "data": {
      "text/plain": [
       "['aaaaaaaaaa', 'bdbcddbddd', 'acdcccdcbc', 'abcbbbcbcb']"
      ]
     },
     "execution_count": 26,
     "metadata": {},
     "output_type": "execute_result"
    }
   ],
   "source": [
    "list_fuzzy"
   ]
  },
  {
   "cell_type": "code",
   "execution_count": 27,
   "metadata": {},
   "outputs": [],
   "source": [
    "for fuzz1 in list_fuzzy:\n",
    "                for fuzz2 in list_fuzzy:\n",
    "                    df_matrix_fuzzy.loc[fuzz1, fuzz2] = util.calculate_fuzzy(fuzz1, fuzz2)  \n",
    "\n",
    "# Membuat Data Matriks Kecocokan antar Bank\n",
    "df_matrix_fuzzy_variabel = pd.DataFrame(df_matrix_fuzzy.to_numpy(), index=[str(i) for i in list(df_variabel.index)], columns=[str(i) for i in list(df_variabel.index)])"
   ]
  },
  {
   "cell_type": "code",
   "execution_count": 28,
   "metadata": {},
   "outputs": [
    {
     "data": {
      "text/html": [
       "<div>\n",
       "<style scoped>\n",
       "    .dataframe tbody tr th:only-of-type {\n",
       "        vertical-align: middle;\n",
       "    }\n",
       "\n",
       "    .dataframe tbody tr th {\n",
       "        vertical-align: top;\n",
       "    }\n",
       "\n",
       "    .dataframe thead th {\n",
       "        text-align: right;\n",
       "    }\n",
       "</style>\n",
       "<table border=\"1\" class=\"dataframe\">\n",
       "  <thead>\n",
       "    <tr style=\"text-align: right;\">\n",
       "      <th></th>\n",
       "      <th>917212</th>\n",
       "      <th>343423</th>\n",
       "      <th>34534</th>\n",
       "      <th>34511234</th>\n",
       "    </tr>\n",
       "  </thead>\n",
       "  <tbody>\n",
       "    <tr>\n",
       "      <th>917212</th>\n",
       "      <td>1.0</td>\n",
       "      <td>0.0</td>\n",
       "      <td>0.1</td>\n",
       "      <td>0.1</td>\n",
       "    </tr>\n",
       "    <tr>\n",
       "      <th>343423</th>\n",
       "      <td>0.0</td>\n",
       "      <td>1.0</td>\n",
       "      <td>0.3</td>\n",
       "      <td>0.3</td>\n",
       "    </tr>\n",
       "    <tr>\n",
       "      <th>34534</th>\n",
       "      <td>0.1</td>\n",
       "      <td>0.4</td>\n",
       "      <td>1.0</td>\n",
       "      <td>0.5</td>\n",
       "    </tr>\n",
       "    <tr>\n",
       "      <th>34511234</th>\n",
       "      <td>0.1</td>\n",
       "      <td>0.3</td>\n",
       "      <td>0.5</td>\n",
       "      <td>1.0</td>\n",
       "    </tr>\n",
       "  </tbody>\n",
       "</table>\n",
       "</div>"
      ],
      "text/plain": [
       "         917212 343423 34534 34511234\n",
       "917212      1.0    0.0   0.1      0.1\n",
       "343423      0.0    1.0   0.3      0.3\n",
       "34534       0.1    0.4   1.0      0.5\n",
       "34511234    0.1    0.3   0.5      1.0"
      ]
     },
     "execution_count": 28,
     "metadata": {},
     "output_type": "execute_result"
    }
   ],
   "source": [
    "df_matrix_fuzzy_variabel"
   ]
  },
  {
   "cell_type": "code",
   "execution_count": 29,
   "metadata": {},
   "outputs": [],
   "source": [
    "df_matrix_fuzzy_variabel = df_matrix_fuzzy_variabel.astype(float)\n",
    "df_matrix_fuzzy_variabel.to_excel('df_matrix_fuzzy_variabel.xlsx', index=True)\n",
    "\n",
    "pca = PCA(2)\n",
    "\n",
    "data = pca.fit_transform(df[['idpihaklawan','idpelapor3','jeniskelamin','nomorpokokwajibpajak','kewarganegaraan','negarapihaklawan','hubunganpelapor','golonganpihaklawan','tahunlahir','kotakab']])\n",
    "            \n",
    "kmeans = KMeans(n_clusters= 3)\n",
    "\n",
    "label = kmeans.fit_predict(data)\n",
    "            \n",
    "u_labels = np.unique(label)"
   ]
  },
  {
   "cell_type": "code",
   "execution_count": 30,
   "metadata": {},
   "outputs": [
    {
     "data": {
      "text/plain": [
       "array([0, 1, 2])"
      ]
     },
     "execution_count": 30,
     "metadata": {},
     "output_type": "execute_result"
    }
   ],
   "source": [
    "u_labels"
   ]
  },
  {
   "cell_type": "code",
   "execution_count": 31,
   "metadata": {},
   "outputs": [
    {
     "data": {
      "image/png": "[encoded data removed]",
      "text/plain": [
       "<Figure size 432x288 with 1 Axes>"
      ]
     },
     "metadata": {
      "needs_background": "light"
     },
     "output_type": "display_data"
    }
   ],
   "source": [
    "for i in u_labels:\n",
    "    plt.scatter(data[label == i , 0] , data[label == i , 1] , label = i)\n",
    "plt.legend()\n",
    "fig = plt.show()"
   ]
  },
  {
   "cell_type": "code",
   "execution_count": 32,
   "metadata": {},
   "outputs": [
    {
     "data": {
      "text/plain": [
       "DeltaGenerator()"
      ]
     },
     "execution_count": 32,
     "metadata": {},
     "output_type": "execute_result"
    },
    {
     "data": {
      "text/plain": [
       "<Figure size 432x288 with 0 Axes>"
      ]
     },
     "metadata": {},
     "output_type": "display_data"
    }
   ],
   "source": [
    "df['Cluster'] = label\n",
    "st.success(\"Tabel Hasil Clustering Pihak Lawan (PCA)\")\n",
    "st.dataframe(df) \n",
    "\n",
    "st.pyplot(fig, use_container_width = True)"
   ]
  },
  {
   "cell_type": "code",
   "execution_count": 173,
   "metadata": {},
   "outputs": [
    {
     "data": {
      "text/html": [
       "<div>\n",
       "<style scoped>\n",
       "    .dataframe tbody tr th:only-of-type {\n",
       "        vertical-align: middle;\n",
       "    }\n",
       "\n",
       "    .dataframe tbody tr th {\n",
       "        vertical-align: top;\n",
       "    }\n",
       "\n",
       "    .dataframe thead th {\n",
       "        text-align: right;\n",
       "    }\n",
       "</style>\n",
       "<table border=\"1\" class=\"dataframe\">\n",
       "  <thead>\n",
       "    <tr style=\"text-align: right;\">\n",
       "      <th></th>\n",
       "      <th>idpelapor</th>\n",
       "      <th>idpihaklawan</th>\n",
       "      <th>startdate</th>\n",
       "      <th>enddate</th>\n",
       "      <th>jenisidentitas</th>\n",
       "      <th>nomoridentitas</th>\n",
       "      <th>jeniskelamin</th>\n",
       "      <th>namapihaklawan</th>\n",
       "      <th>nomorpokokwajibpajak</th>\n",
       "      <th>kewarganegaraan</th>\n",
       "      <th>negarapihaklawan</th>\n",
       "      <th>jeniskegiatanusaha</th>\n",
       "      <th>hubunganpelapor</th>\n",
       "      <th>golonganpihaklawan</th>\n",
       "      <th>lembagapemeringkat</th>\n",
       "      <th>peringkat</th>\n",
       "      <th>tanggalpemeringkatan</th>\n",
       "      <th>tahunlahir</th>\n",
       "      <th>kotakab</th>\n",
       "      <th>idgrup</th>\n",
       "    </tr>\n",
       "  </thead>\n",
       "  <tbody>\n",
       "    <tr>\n",
       "      <th>2243</th>\n",
       "      <td>002000000</td>\n",
       "      <td>002084000</td>\n",
       "      <td>2020-01-02</td>\n",
       "      <td>NaN</td>\n",
       "      <td>NaN</td>\n",
       "      <td>NaN</td>\n",
       "      <td>NaN</td>\n",
       "      <td>BRxxx-xxxx</td>\n",
       "      <td>5284047F4FFB4E04824A2FD1D1F0CD62</td>\n",
       "      <td>NaN</td>\n",
       "      <td>ID</td>\n",
       "      <td>NaN</td>\n",
       "      <td>N</td>\n",
       "      <td>S128011L</td>\n",
       "      <td>NaN</td>\n",
       "      <td>NaN</td>\n",
       "      <td>NaN</td>\n",
       "      <td>NaN</td>\n",
       "      <td>1224</td>\n",
       "      <td>NaN</td>\n",
       "    </tr>\n",
       "    <tr>\n",
       "      <th>6016</th>\n",
       "      <td>002000000</td>\n",
       "      <td>4365020230983206</td>\n",
       "      <td>2020-03-31</td>\n",
       "      <td>NaN</td>\n",
       "      <td>KTP</td>\n",
       "      <td>061FE1606212B5251ADD3E2C44EEF524</td>\n",
       "      <td>P</td>\n",
       "      <td>AMxxx-xxxx</td>\n",
       "      <td>NaN</td>\n",
       "      <td>ID</td>\n",
       "      <td>ID</td>\n",
       "      <td>NaN</td>\n",
       "      <td>N</td>\n",
       "      <td>S14</td>\n",
       "      <td>NaN</td>\n",
       "      <td>NaN</td>\n",
       "      <td>NaN</td>\n",
       "      <td>1982</td>\n",
       "      <td>6191</td>\n",
       "      <td>NaN</td>\n",
       "    </tr>\n",
       "    <tr>\n",
       "      <th>6596</th>\n",
       "      <td>002000000</td>\n",
       "      <td>4365020246538309</td>\n",
       "      <td>2020-03-31</td>\n",
       "      <td>NaN</td>\n",
       "      <td>KTP</td>\n",
       "      <td>E3D11861449ECC355B6142B7FE8AF482</td>\n",
       "      <td>P</td>\n",
       "      <td>YUxxx-xxxx</td>\n",
       "      <td>B3F771E45FEE383446EAF159801CFB50</td>\n",
       "      <td>ID</td>\n",
       "      <td>ID</td>\n",
       "      <td>NaN</td>\n",
       "      <td>N</td>\n",
       "      <td>S14</td>\n",
       "      <td>NaN</td>\n",
       "      <td>NaN</td>\n",
       "      <td>NaN</td>\n",
       "      <td>1986</td>\n",
       "      <td>0293</td>\n",
       "      <td>NaN</td>\n",
       "    </tr>\n",
       "    <tr>\n",
       "      <th>17115</th>\n",
       "      <td>023025000</td>\n",
       "      <td>700017530</td>\n",
       "      <td>2021-09-30</td>\n",
       "      <td>NaN</td>\n",
       "      <td>NaN</td>\n",
       "      <td>NaN</td>\n",
       "      <td>NaN</td>\n",
       "      <td>GLxxx-xxxx</td>\n",
       "      <td>30</td>\n",
       "      <td>NaN</td>\n",
       "      <td>ID</td>\n",
       "      <td>NaN</td>\n",
       "      <td>N</td>\n",
       "      <td>S1100299L</td>\n",
       "      <td>NaN</td>\n",
       "      <td>NaN</td>\n",
       "      <td>NaN</td>\n",
       "      <td>NaN</td>\n",
       "      <td>3892</td>\n",
       "      <td>NaN</td>\n",
       "    </tr>\n",
       "    <tr>\n",
       "      <th>2382</th>\n",
       "      <td>002000000</td>\n",
       "      <td>566003000</td>\n",
       "      <td>2020-01-02</td>\n",
       "      <td>NaN</td>\n",
       "      <td>NaN</td>\n",
       "      <td>NaN</td>\n",
       "      <td>NaN</td>\n",
       "      <td>BAxxx-xxxx</td>\n",
       "      <td>5284047F4FFB4E04824A2FD1D1F0CD62</td>\n",
       "      <td>NaN</td>\n",
       "      <td>ID</td>\n",
       "      <td>NaN</td>\n",
       "      <td>N</td>\n",
       "      <td>S128011L</td>\n",
       "      <td>NaN</td>\n",
       "      <td>NaN</td>\n",
       "      <td>NaN</td>\n",
       "      <td>NaN</td>\n",
       "      <td>0394</td>\n",
       "      <td>NaN</td>\n",
       "    </tr>\n",
       "  </tbody>\n",
       "</table>\n",
       "</div>"
      ],
      "text/plain": [
       "       idpelapor      idpihaklawan   startdate enddate jenisidentitas  \\\n",
       "2243   002000000         002084000  2020-01-02     NaN            NaN   \n",
       "6016   002000000  4365020230983206  2020-03-31     NaN            KTP   \n",
       "6596   002000000  4365020246538309  2020-03-31     NaN            KTP   \n",
       "17115  023025000         700017530  2021-09-30     NaN            NaN   \n",
       "2382   002000000         566003000  2020-01-02     NaN            NaN   \n",
       "\n",
       "                         nomoridentitas jeniskelamin namapihaklawan  \\\n",
       "2243                                NaN          NaN     BRxxx-xxxx   \n",
       "6016   061FE1606212B5251ADD3E2C44EEF524            P     AMxxx-xxxx   \n",
       "6596   E3D11861449ECC355B6142B7FE8AF482            P     YUxxx-xxxx   \n",
       "17115                               NaN          NaN     GLxxx-xxxx   \n",
       "2382                                NaN          NaN     BAxxx-xxxx   \n",
       "\n",
       "                   nomorpokokwajibpajak kewarganegaraan negarapihaklawan  \\\n",
       "2243   5284047F4FFB4E04824A2FD1D1F0CD62             NaN               ID   \n",
       "6016                                NaN              ID               ID   \n",
       "6596   B3F771E45FEE383446EAF159801CFB50              ID               ID   \n",
       "17115                                30             NaN               ID   \n",
       "2382   5284047F4FFB4E04824A2FD1D1F0CD62             NaN               ID   \n",
       "\n",
       "      jeniskegiatanusaha hubunganpelapor golonganpihaklawan  \\\n",
       "2243                 NaN               N           S128011L   \n",
       "6016                 NaN               N                S14   \n",
       "6596                 NaN               N                S14   \n",
       "17115                NaN               N          S1100299L   \n",
       "2382                 NaN               N           S128011L   \n",
       "\n",
       "      lembagapemeringkat peringkat tanggalpemeringkatan tahunlahir kotakab  \\\n",
       "2243                 NaN       NaN                  NaN        NaN    1224   \n",
       "6016                 NaN       NaN                  NaN       1982    6191   \n",
       "6596                 NaN       NaN                  NaN       1986    0293   \n",
       "17115                NaN       NaN                  NaN        NaN    3892   \n",
       "2382                 NaN       NaN                  NaN        NaN    0394   \n",
       "\n",
       "      idgrup  \n",
       "2243     NaN  \n",
       "6016     NaN  \n",
       "6596     NaN  \n",
       "17115    NaN  \n",
       "2382     NaN  "
      ]
     },
     "execution_count": 173,
     "metadata": {},
     "output_type": "execute_result"
    }
   ],
   "source": [
    "df = pd.read_csv('lps_data.csv', sep='|')\n",
    "df.sample(5)"
   ]
  },
  {
   "cell_type": "code",
   "execution_count": null,
   "metadata": {},
   "outputs": [],
   "source": [
    "def get_data(jumlah_row=19999):\n",
    "    dt = pd.read_csv('lps_data.csv', sep='|')\n",
    "    df = dt.head(jumlah_row)\n",
    "    return df"
   ]
  },
  {
   "cell_type": "code",
   "execution_count": 172,
   "metadata": {},
   "outputs": [
    {
     "data": {
      "text/plain": [
       "array([[3, 3, 6],\n",
       "       [3, 4, 5],\n",
       "       [3, 4, 3]])"
      ]
     },
     "execution_count": 172,
     "metadata": {},
     "output_type": "execute_result"
    }
   ],
   "source": [
    "np.random.randint([3], [5, 5, 10], [3,3])"
   ]
  },
  {
   "cell_type": "code",
   "execution_count": 195,
   "metadata": {},
   "outputs": [],
   "source": [
    "from numpy.random import default_rng\n",
    "\n",
    "rng = default_rng()\n",
    "random_identitas = rng.integers(1000000000000000, size=19999)"
   ]
  },
  {
   "cell_type": "code",
   "execution_count": 199,
   "metadata": {},
   "outputs": [
    {
     "ename": "ValueError",
     "evalue": "Sample larger than population or is negative",
     "output_type": "error",
     "traceback": [
      "\u001b[1;31m---------------------------------------------------------------------------\u001b[0m",
      "\u001b[1;31mValueError\u001b[0m                                Traceback (most recent call last)",
      "Cell \u001b[1;32mIn[199], line 3\u001b[0m\n\u001b[0;32m      1\u001b[0m kelamin \u001b[39m=\u001b[39m [\u001b[39m'\u001b[39m\u001b[39mL\u001b[39m\u001b[39m'\u001b[39m, \u001b[39m'\u001b[39m\u001b[39mP\u001b[39m\u001b[39m'\u001b[39m]\n\u001b[1;32m----> 3\u001b[0m random_kelamin \u001b[39m=\u001b[39m random\u001b[39m.\u001b[39;49msample(kelamin, k\u001b[39m=\u001b[39;49m\u001b[39m19999\u001b[39;49m)\n",
      "File \u001b[1;32m~\\Anaconda3\\envs\\myenv\\lib\\random.py:482\u001b[0m, in \u001b[0;36mRandom.sample\u001b[1;34m(self, population, k, counts)\u001b[0m\n\u001b[0;32m    480\u001b[0m randbelow \u001b[39m=\u001b[39m \u001b[39mself\u001b[39m\u001b[39m.\u001b[39m_randbelow\n\u001b[0;32m    481\u001b[0m \u001b[39mif\u001b[39;00m \u001b[39mnot\u001b[39;00m \u001b[39m0\u001b[39m \u001b[39m<\u001b[39m\u001b[39m=\u001b[39m k \u001b[39m<\u001b[39m\u001b[39m=\u001b[39m n:\n\u001b[1;32m--> 482\u001b[0m     \u001b[39mraise\u001b[39;00m \u001b[39mValueError\u001b[39;00m(\u001b[39m\"\u001b[39m\u001b[39mSample larger than population or is negative\u001b[39m\u001b[39m\"\u001b[39m)\n\u001b[0;32m    483\u001b[0m result \u001b[39m=\u001b[39m [\u001b[39mNone\u001b[39;00m] \u001b[39m*\u001b[39m k\n\u001b[0;32m    484\u001b[0m setsize \u001b[39m=\u001b[39m \u001b[39m21\u001b[39m        \u001b[39m# size of a small set minus size of an empty list\u001b[39;00m\n",
      "\u001b[1;31mValueError\u001b[0m: Sample larger than population or is negative"
     ]
    }
   ],
   "source": [
    "kelamin = ['L', 'P']\n",
    "\n",
    "random_kelamin = random.sample(kelamin, k=19999)"
   ]
  },
  {
   "cell_type": "code",
   "execution_count": 3,
   "metadata": {},
   "outputs": [
    {
     "data": {
      "text/plain": [
       "(4475, 18)"
      ]
     },
     "execution_count": 3,
     "metadata": {},
     "output_type": "execute_result"
    }
   ],
   "source": [
    "df.shape"
   ]
  },
  {
   "cell_type": "code",
   "execution_count": 5,
   "metadata": {},
   "outputs": [],
   "source": [
    "df.dropna(inplace=True)"
   ]
  },
  {
   "cell_type": "code",
   "execution_count": 6,
   "metadata": {},
   "outputs": [
    {
     "data": {
      "text/plain": [
       "(4320, 18)"
      ]
     },
     "execution_count": 6,
     "metadata": {},
     "output_type": "execute_result"
    }
   ],
   "source": [
    "df.shape"
   ]
  },
  {
   "cell_type": "code",
   "execution_count": 11,
   "metadata": {},
   "outputs": [
    {
     "data": {
      "text/plain": [
       "7"
      ]
     },
     "execution_count": 11,
     "metadata": {},
     "output_type": "execute_result"
    }
   ],
   "source": [
    "df.TENURE.nunique()"
   ]
  },
  {
   "cell_type": "code",
   "execution_count": 8,
   "metadata": {},
   "outputs": [
    {
     "data": {
      "text/plain": [
       "Index(['CUST_ID', 'BALANCE', 'BALANCE_FREQUENCY', 'PURCHASES',\n",
       "       'ONEOFF_PURCHASES', 'INSTALLMENTS_PURCHASES', 'CASH_ADVANCE',\n",
       "       'PURCHASES_FREQUENCY', 'ONEOFF_PURCHASES_FREQUENCY',\n",
       "       'PURCHASES_INSTALLMENTS_FREQUENCY', 'CASH_ADVANCE_FREQUENCY',\n",
       "       'CASH_ADVANCE_TRX', 'PURCHASES_TRX', 'CREDIT_LIMIT', 'PAYMENTS',\n",
       "       'MINIMUM_PAYMENTS', 'PRC_FULL_PAYMENT', 'TENURE'],\n",
       "      dtype='object')"
      ]
     },
     "execution_count": 8,
     "metadata": {},
     "output_type": "execute_result"
    }
   ],
   "source": [
    "df.columns"
   ]
  },
  {
   "cell_type": "code",
   "execution_count": 35,
   "metadata": {},
   "outputs": [
    {
     "data": {
      "text/plain": [
       "4320"
      ]
     },
     "execution_count": 35,
     "metadata": {},
     "output_type": "execute_result"
    }
   ],
   "source": [
    "df.CUST_ID.nunique()"
   ]
  },
  {
   "cell_type": "code",
   "execution_count": 36,
   "metadata": {},
   "outputs": [
    {
     "data": {
      "text/html": [
       "<div>\n",
       "<style scoped>\n",
       "    .dataframe tbody tr th:only-of-type {\n",
       "        vertical-align: middle;\n",
       "    }\n",
       "\n",
       "    .dataframe tbody tr th {\n",
       "        vertical-align: top;\n",
       "    }\n",
       "\n",
       "    .dataframe thead th {\n",
       "        text-align: right;\n",
       "    }\n",
       "</style>\n",
       "<table border=\"1\" class=\"dataframe\">\n",
       "  <thead>\n",
       "    <tr style=\"text-align: right;\">\n",
       "      <th></th>\n",
       "      <th>CUST_ID</th>\n",
       "      <th>BALANCE</th>\n",
       "      <th>BALANCE_FREQUENCY</th>\n",
       "      <th>PURCHASES</th>\n",
       "      <th>ONEOFF_PURCHASES</th>\n",
       "      <th>INSTALLMENTS_PURCHASES</th>\n",
       "      <th>CASH_ADVANCE</th>\n",
       "      <th>PURCHASES_FREQUENCY</th>\n",
       "      <th>ONEOFF_PURCHASES_FREQUENCY</th>\n",
       "      <th>PURCHASES_INSTALLMENTS_FREQUENCY</th>\n",
       "      <th>CASH_ADVANCE_FREQUENCY</th>\n",
       "      <th>CASH_ADVANCE_TRX</th>\n",
       "      <th>PURCHASES_TRX</th>\n",
       "      <th>CREDIT_LIMIT</th>\n",
       "      <th>PAYMENTS</th>\n",
       "      <th>MINIMUM_PAYMENTS</th>\n",
       "      <th>PRC_FULL_PAYMENT</th>\n",
       "      <th>TENURE</th>\n",
       "    </tr>\n",
       "  </thead>\n",
       "  <tbody>\n",
       "    <tr>\n",
       "      <th>2</th>\n",
       "      <td>6075</td>\n",
       "      <td>757.964752</td>\n",
       "      <td>0.875</td>\n",
       "      <td>157.4</td>\n",
       "      <td>157.4</td>\n",
       "      <td>0.0</td>\n",
       "      <td>0.0</td>\n",
       "      <td>0.125</td>\n",
       "      <td>0.125</td>\n",
       "      <td>0.0</td>\n",
       "      <td>0.0</td>\n",
       "      <td>0</td>\n",
       "      <td>6</td>\n",
       "      <td>1200.0</td>\n",
       "      <td>1494.480376</td>\n",
       "      <td>2638.598410</td>\n",
       "      <td>0.0</td>\n",
       "      <td>8</td>\n",
       "    </tr>\n",
       "    <tr>\n",
       "      <th>3</th>\n",
       "      <td>6291</td>\n",
       "      <td>264.566591</td>\n",
       "      <td>0.375</td>\n",
       "      <td>1150.0</td>\n",
       "      <td>1150.0</td>\n",
       "      <td>0.0</td>\n",
       "      <td>0.0</td>\n",
       "      <td>0.125</td>\n",
       "      <td>0.125</td>\n",
       "      <td>0.0</td>\n",
       "      <td>0.0</td>\n",
       "      <td>0</td>\n",
       "      <td>1</td>\n",
       "      <td>1200.0</td>\n",
       "      <td>3029.380326</td>\n",
       "      <td>85.428885</td>\n",
       "      <td>0.0</td>\n",
       "      <td>8</td>\n",
       "    </tr>\n",
       "    <tr>\n",
       "      <th>4</th>\n",
       "      <td>7755</td>\n",
       "      <td>440.613643</td>\n",
       "      <td>1.000</td>\n",
       "      <td>600.0</td>\n",
       "      <td>600.0</td>\n",
       "      <td>0.0</td>\n",
       "      <td>0.0</td>\n",
       "      <td>0.125</td>\n",
       "      <td>0.125</td>\n",
       "      <td>0.0</td>\n",
       "      <td>0.0</td>\n",
       "      <td>0</td>\n",
       "      <td>1</td>\n",
       "      <td>1000.0</td>\n",
       "      <td>215.316424</td>\n",
       "      <td>137.846006</td>\n",
       "      <td>0.0</td>\n",
       "      <td>8</td>\n",
       "    </tr>\n",
       "    <tr>\n",
       "      <th>5</th>\n",
       "      <td>8299</td>\n",
       "      <td>611.561026</td>\n",
       "      <td>1.000</td>\n",
       "      <td>765.0</td>\n",
       "      <td>765.0</td>\n",
       "      <td>0.0</td>\n",
       "      <td>0.0</td>\n",
       "      <td>0.125</td>\n",
       "      <td>0.125</td>\n",
       "      <td>0.0</td>\n",
       "      <td>0.0</td>\n",
       "      <td>0</td>\n",
       "      <td>1</td>\n",
       "      <td>2000.0</td>\n",
       "      <td>204.464151</td>\n",
       "      <td>146.352314</td>\n",
       "      <td>0.0</td>\n",
       "      <td>8</td>\n",
       "    </tr>\n",
       "    <tr>\n",
       "      <th>7</th>\n",
       "      <td>8805</td>\n",
       "      <td>105.333584</td>\n",
       "      <td>0.375</td>\n",
       "      <td>306.0</td>\n",
       "      <td>306.0</td>\n",
       "      <td>0.0</td>\n",
       "      <td>0.0</td>\n",
       "      <td>0.125</td>\n",
       "      <td>0.125</td>\n",
       "      <td>0.0</td>\n",
       "      <td>0.0</td>\n",
       "      <td>0</td>\n",
       "      <td>2</td>\n",
       "      <td>6000.0</td>\n",
       "      <td>101.986927</td>\n",
       "      <td>118.324082</td>\n",
       "      <td>0.0</td>\n",
       "      <td>8</td>\n",
       "    </tr>\n",
       "  </tbody>\n",
       "</table>\n",
       "</div>"
      ],
      "text/plain": [
       "   CUST_ID     BALANCE  BALANCE_FREQUENCY  PURCHASES  ONEOFF_PURCHASES  \\\n",
       "2     6075  757.964752              0.875      157.4             157.4   \n",
       "3     6291  264.566591              0.375     1150.0            1150.0   \n",
       "4     7755  440.613643              1.000      600.0             600.0   \n",
       "5     8299  611.561026              1.000      765.0             765.0   \n",
       "7     8805  105.333584              0.375      306.0             306.0   \n",
       "\n",
       "   INSTALLMENTS_PURCHASES  CASH_ADVANCE  PURCHASES_FREQUENCY  \\\n",
       "2                     0.0           0.0                0.125   \n",
       "3                     0.0           0.0                0.125   \n",
       "4                     0.0           0.0                0.125   \n",
       "5                     0.0           0.0                0.125   \n",
       "7                     0.0           0.0                0.125   \n",
       "\n",
       "   ONEOFF_PURCHASES_FREQUENCY  PURCHASES_INSTALLMENTS_FREQUENCY  \\\n",
       "2                       0.125                               0.0   \n",
       "3                       0.125                               0.0   \n",
       "4                       0.125                               0.0   \n",
       "5                       0.125                               0.0   \n",
       "7                       0.125                               0.0   \n",
       "\n",
       "   CASH_ADVANCE_FREQUENCY  CASH_ADVANCE_TRX  PURCHASES_TRX  CREDIT_LIMIT  \\\n",
       "2                     0.0                 0              6        1200.0   \n",
       "3                     0.0                 0              1        1200.0   \n",
       "4                     0.0                 0              1        1000.0   \n",
       "5                     0.0                 0              1        2000.0   \n",
       "7                     0.0                 0              2        6000.0   \n",
       "\n",
       "      PAYMENTS  MINIMUM_PAYMENTS  PRC_FULL_PAYMENT  TENURE  \n",
       "2  1494.480376       2638.598410               0.0       8  \n",
       "3  3029.380326         85.428885               0.0       8  \n",
       "4   215.316424        137.846006               0.0       8  \n",
       "5   204.464151        146.352314               0.0       8  \n",
       "7   101.986927        118.324082               0.0       8  "
      ]
     },
     "execution_count": 36,
     "metadata": {},
     "output_type": "execute_result"
    }
   ],
   "source": [
    "df.head()"
   ]
  },
  {
   "cell_type": "code",
   "execution_count": 12,
   "metadata": {},
   "outputs": [],
   "source": [
    "X = df.drop(columns='TENURE')\n",
    "y = df['TENURE']"
   ]
  },
  {
   "cell_type": "code",
   "execution_count": 13,
   "metadata": {},
   "outputs": [
    {
     "data": {
      "text/html": [
       "<div>\n",
       "<style scoped>\n",
       "    .dataframe tbody tr th:only-of-type {\n",
       "        vertical-align: middle;\n",
       "    }\n",
       "\n",
       "    .dataframe tbody tr th {\n",
       "        vertical-align: top;\n",
       "    }\n",
       "\n",
       "    .dataframe thead th {\n",
       "        text-align: right;\n",
       "    }\n",
       "</style>\n",
       "<table border=\"1\" class=\"dataframe\">\n",
       "  <thead>\n",
       "    <tr style=\"text-align: right;\">\n",
       "      <th></th>\n",
       "      <th>CUST_ID</th>\n",
       "      <th>BALANCE</th>\n",
       "      <th>BALANCE_FREQUENCY</th>\n",
       "      <th>PURCHASES</th>\n",
       "      <th>ONEOFF_PURCHASES</th>\n",
       "      <th>INSTALLMENTS_PURCHASES</th>\n",
       "      <th>CASH_ADVANCE</th>\n",
       "      <th>PURCHASES_FREQUENCY</th>\n",
       "      <th>ONEOFF_PURCHASES_FREQUENCY</th>\n",
       "      <th>PURCHASES_INSTALLMENTS_FREQUENCY</th>\n",
       "      <th>CASH_ADVANCE_FREQUENCY</th>\n",
       "      <th>CASH_ADVANCE_TRX</th>\n",
       "      <th>PURCHASES_TRX</th>\n",
       "      <th>CREDIT_LIMIT</th>\n",
       "      <th>PAYMENTS</th>\n",
       "      <th>MINIMUM_PAYMENTS</th>\n",
       "      <th>PRC_FULL_PAYMENT</th>\n",
       "    </tr>\n",
       "  </thead>\n",
       "  <tbody>\n",
       "    <tr>\n",
       "      <th>2</th>\n",
       "      <td>6075</td>\n",
       "      <td>757.964752</td>\n",
       "      <td>0.875</td>\n",
       "      <td>157.4</td>\n",
       "      <td>157.4</td>\n",
       "      <td>0.0</td>\n",
       "      <td>0.0</td>\n",
       "      <td>0.125</td>\n",
       "      <td>0.125</td>\n",
       "      <td>0.0</td>\n",
       "      <td>0.0</td>\n",
       "      <td>0</td>\n",
       "      <td>6</td>\n",
       "      <td>1200.0</td>\n",
       "      <td>1494.480376</td>\n",
       "      <td>2638.598410</td>\n",
       "      <td>0.0</td>\n",
       "    </tr>\n",
       "    <tr>\n",
       "      <th>3</th>\n",
       "      <td>6291</td>\n",
       "      <td>264.566591</td>\n",
       "      <td>0.375</td>\n",
       "      <td>1150.0</td>\n",
       "      <td>1150.0</td>\n",
       "      <td>0.0</td>\n",
       "      <td>0.0</td>\n",
       "      <td>0.125</td>\n",
       "      <td>0.125</td>\n",
       "      <td>0.0</td>\n",
       "      <td>0.0</td>\n",
       "      <td>0</td>\n",
       "      <td>1</td>\n",
       "      <td>1200.0</td>\n",
       "      <td>3029.380326</td>\n",
       "      <td>85.428885</td>\n",
       "      <td>0.0</td>\n",
       "    </tr>\n",
       "    <tr>\n",
       "      <th>4</th>\n",
       "      <td>7755</td>\n",
       "      <td>440.613643</td>\n",
       "      <td>1.000</td>\n",
       "      <td>600.0</td>\n",
       "      <td>600.0</td>\n",
       "      <td>0.0</td>\n",
       "      <td>0.0</td>\n",
       "      <td>0.125</td>\n",
       "      <td>0.125</td>\n",
       "      <td>0.0</td>\n",
       "      <td>0.0</td>\n",
       "      <td>0</td>\n",
       "      <td>1</td>\n",
       "      <td>1000.0</td>\n",
       "      <td>215.316424</td>\n",
       "      <td>137.846006</td>\n",
       "      <td>0.0</td>\n",
       "    </tr>\n",
       "    <tr>\n",
       "      <th>5</th>\n",
       "      <td>8299</td>\n",
       "      <td>611.561026</td>\n",
       "      <td>1.000</td>\n",
       "      <td>765.0</td>\n",
       "      <td>765.0</td>\n",
       "      <td>0.0</td>\n",
       "      <td>0.0</td>\n",
       "      <td>0.125</td>\n",
       "      <td>0.125</td>\n",
       "      <td>0.0</td>\n",
       "      <td>0.0</td>\n",
       "      <td>0</td>\n",
       "      <td>1</td>\n",
       "      <td>2000.0</td>\n",
       "      <td>204.464151</td>\n",
       "      <td>146.352314</td>\n",
       "      <td>0.0</td>\n",
       "    </tr>\n",
       "    <tr>\n",
       "      <th>7</th>\n",
       "      <td>8805</td>\n",
       "      <td>105.333584</td>\n",
       "      <td>0.375</td>\n",
       "      <td>306.0</td>\n",
       "      <td>306.0</td>\n",
       "      <td>0.0</td>\n",
       "      <td>0.0</td>\n",
       "      <td>0.125</td>\n",
       "      <td>0.125</td>\n",
       "      <td>0.0</td>\n",
       "      <td>0.0</td>\n",
       "      <td>0</td>\n",
       "      <td>2</td>\n",
       "      <td>6000.0</td>\n",
       "      <td>101.986927</td>\n",
       "      <td>118.324082</td>\n",
       "      <td>0.0</td>\n",
       "    </tr>\n",
       "  </tbody>\n",
       "</table>\n",
       "</div>"
      ],
      "text/plain": [
       "   CUST_ID     BALANCE  BALANCE_FREQUENCY  PURCHASES  ONEOFF_PURCHASES  \\\n",
       "2     6075  757.964752              0.875      157.4             157.4   \n",
       "3     6291  264.566591              0.375     1150.0            1150.0   \n",
       "4     7755  440.613643              1.000      600.0             600.0   \n",
       "5     8299  611.561026              1.000      765.0             765.0   \n",
       "7     8805  105.333584              0.375      306.0             306.0   \n",
       "\n",
       "   INSTALLMENTS_PURCHASES  CASH_ADVANCE  PURCHASES_FREQUENCY  \\\n",
       "2                     0.0           0.0                0.125   \n",
       "3                     0.0           0.0                0.125   \n",
       "4                     0.0           0.0                0.125   \n",
       "5                     0.0           0.0                0.125   \n",
       "7                     0.0           0.0                0.125   \n",
       "\n",
       "   ONEOFF_PURCHASES_FREQUENCY  PURCHASES_INSTALLMENTS_FREQUENCY  \\\n",
       "2                       0.125                               0.0   \n",
       "3                       0.125                               0.0   \n",
       "4                       0.125                               0.0   \n",
       "5                       0.125                               0.0   \n",
       "7                       0.125                               0.0   \n",
       "\n",
       "   CASH_ADVANCE_FREQUENCY  CASH_ADVANCE_TRX  PURCHASES_TRX  CREDIT_LIMIT  \\\n",
       "2                     0.0                 0              6        1200.0   \n",
       "3                     0.0                 0              1        1200.0   \n",
       "4                     0.0                 0              1        1000.0   \n",
       "5                     0.0                 0              1        2000.0   \n",
       "7                     0.0                 0              2        6000.0   \n",
       "\n",
       "      PAYMENTS  MINIMUM_PAYMENTS  PRC_FULL_PAYMENT  \n",
       "2  1494.480376       2638.598410               0.0  \n",
       "3  3029.380326         85.428885               0.0  \n",
       "4   215.316424        137.846006               0.0  \n",
       "5   204.464151        146.352314               0.0  \n",
       "7   101.986927        118.324082               0.0  "
      ]
     },
     "execution_count": 13,
     "metadata": {},
     "output_type": "execute_result"
    }
   ],
   "source": [
    "X.head()"
   ]
  },
  {
   "cell_type": "code",
   "execution_count": 21,
   "metadata": {},
   "outputs": [
    {
     "data": {
      "text/plain": [
       "<AxesSubplot:>"
      ]
     },
     "execution_count": 21,
     "metadata": {},
     "output_type": "execute_result"
    },
    {
     "data": {
      "image/png": "[encoded data removed]",
      "text/plain": [
       "<Figure size 432x288 with 1 Axes>"
      ]
     },
     "metadata": {
      "needs_background": "light"
     },
     "output_type": "display_data"
    }
   ],
   "source": [
    "df['TENURE'].value_counts().plot(kind='bar')"
   ]
  },
  {
   "cell_type": "code",
   "execution_count": 15,
   "metadata": {},
   "outputs": [
    {
     "name": "stdout",
     "output_type": "stream",
     "text": [
      "0.11.0\n"
     ]
    }
   ],
   "source": [
    "import imblearn\n",
    "print(imblearn.__version__)"
   ]
  },
  {
   "cell_type": "code",
   "execution_count": 16,
   "metadata": {},
   "outputs": [],
   "source": [
    "from imblearn.over_sampling import SMOTE"
   ]
  },
  {
   "cell_type": "code",
   "execution_count": 17,
   "metadata": {},
   "outputs": [],
   "source": [
    "oversample = SMOTE()"
   ]
  },
  {
   "cell_type": "code",
   "execution_count": 22,
   "metadata": {},
   "outputs": [],
   "source": [
    "X, y = oversample.fit_resample(X, y)"
   ]
  },
  {
   "cell_type": "code",
   "execution_count": 25,
   "metadata": {},
   "outputs": [
    {
     "data": {
      "text/plain": [
       "(25634, 17)"
      ]
     },
     "execution_count": 25,
     "metadata": {},
     "output_type": "execute_result"
    }
   ],
   "source": [
    "X.shape"
   ]
  },
  {
   "cell_type": "code",
   "execution_count": 29,
   "metadata": {},
   "outputs": [
    {
     "data": {
      "text/plain": [
       "<AxesSubplot:>"
      ]
     },
     "execution_count": 29,
     "metadata": {},
     "output_type": "execute_result"
    },
    {
     "data": {
      "image/png": "[encoded data removed]",
      "text/plain": [
       "<Figure size 432x288 with 1 Axes>"
      ]
     },
     "metadata": {
      "needs_background": "light"
     },
     "output_type": "display_data"
    }
   ],
   "source": [
    "y.value_counts().plot(kind='bar')"
   ]
  },
  {
   "cell_type": "code",
   "execution_count": 37,
   "metadata": {},
   "outputs": [
    {
     "data": {
      "text/html": [
       "<div>\n",
       "<style scoped>\n",
       "    .dataframe tbody tr th:only-of-type {\n",
       "        vertical-align: middle;\n",
       "    }\n",
       "\n",
       "    .dataframe tbody tr th {\n",
       "        vertical-align: top;\n",
       "    }\n",
       "\n",
       "    .dataframe thead th {\n",
       "        text-align: right;\n",
       "    }\n",
       "</style>\n",
       "<table border=\"1\" class=\"dataframe\">\n",
       "  <thead>\n",
       "    <tr style=\"text-align: right;\">\n",
       "      <th></th>\n",
       "      <th>CUST_ID</th>\n",
       "      <th>BALANCE</th>\n",
       "      <th>BALANCE_FREQUENCY</th>\n",
       "      <th>PURCHASES</th>\n",
       "      <th>ONEOFF_PURCHASES</th>\n",
       "      <th>INSTALLMENTS_PURCHASES</th>\n",
       "      <th>CASH_ADVANCE</th>\n",
       "      <th>PURCHASES_FREQUENCY</th>\n",
       "      <th>ONEOFF_PURCHASES_FREQUENCY</th>\n",
       "      <th>PURCHASES_INSTALLMENTS_FREQUENCY</th>\n",
       "      <th>CASH_ADVANCE_FREQUENCY</th>\n",
       "      <th>CASH_ADVANCE_TRX</th>\n",
       "      <th>PURCHASES_TRX</th>\n",
       "      <th>CREDIT_LIMIT</th>\n",
       "      <th>PAYMENTS</th>\n",
       "      <th>MINIMUM_PAYMENTS</th>\n",
       "      <th>PRC_FULL_PAYMENT</th>\n",
       "    </tr>\n",
       "  </thead>\n",
       "  <tbody>\n",
       "    <tr>\n",
       "      <th>0</th>\n",
       "      <td>6075</td>\n",
       "      <td>757.964752</td>\n",
       "      <td>0.875</td>\n",
       "      <td>157.4</td>\n",
       "      <td>157.4</td>\n",
       "      <td>0.0</td>\n",
       "      <td>0.0</td>\n",
       "      <td>0.125</td>\n",
       "      <td>0.125</td>\n",
       "      <td>0.0</td>\n",
       "      <td>0.0</td>\n",
       "      <td>0</td>\n",
       "      <td>6</td>\n",
       "      <td>1200.0</td>\n",
       "      <td>1494.480376</td>\n",
       "      <td>2638.598410</td>\n",
       "      <td>0.0</td>\n",
       "    </tr>\n",
       "    <tr>\n",
       "      <th>1</th>\n",
       "      <td>6291</td>\n",
       "      <td>264.566591</td>\n",
       "      <td>0.375</td>\n",
       "      <td>1150.0</td>\n",
       "      <td>1150.0</td>\n",
       "      <td>0.0</td>\n",
       "      <td>0.0</td>\n",
       "      <td>0.125</td>\n",
       "      <td>0.125</td>\n",
       "      <td>0.0</td>\n",
       "      <td>0.0</td>\n",
       "      <td>0</td>\n",
       "      <td>1</td>\n",
       "      <td>1200.0</td>\n",
       "      <td>3029.380326</td>\n",
       "      <td>85.428885</td>\n",
       "      <td>0.0</td>\n",
       "    </tr>\n",
       "    <tr>\n",
       "      <th>2</th>\n",
       "      <td>7755</td>\n",
       "      <td>440.613643</td>\n",
       "      <td>1.000</td>\n",
       "      <td>600.0</td>\n",
       "      <td>600.0</td>\n",
       "      <td>0.0</td>\n",
       "      <td>0.0</td>\n",
       "      <td>0.125</td>\n",
       "      <td>0.125</td>\n",
       "      <td>0.0</td>\n",
       "      <td>0.0</td>\n",
       "      <td>0</td>\n",
       "      <td>1</td>\n",
       "      <td>1000.0</td>\n",
       "      <td>215.316424</td>\n",
       "      <td>137.846006</td>\n",
       "      <td>0.0</td>\n",
       "    </tr>\n",
       "    <tr>\n",
       "      <th>3</th>\n",
       "      <td>8299</td>\n",
       "      <td>611.561026</td>\n",
       "      <td>1.000</td>\n",
       "      <td>765.0</td>\n",
       "      <td>765.0</td>\n",
       "      <td>0.0</td>\n",
       "      <td>0.0</td>\n",
       "      <td>0.125</td>\n",
       "      <td>0.125</td>\n",
       "      <td>0.0</td>\n",
       "      <td>0.0</td>\n",
       "      <td>0</td>\n",
       "      <td>1</td>\n",
       "      <td>2000.0</td>\n",
       "      <td>204.464151</td>\n",
       "      <td>146.352314</td>\n",
       "      <td>0.0</td>\n",
       "    </tr>\n",
       "    <tr>\n",
       "      <th>4</th>\n",
       "      <td>8805</td>\n",
       "      <td>105.333584</td>\n",
       "      <td>0.375</td>\n",
       "      <td>306.0</td>\n",
       "      <td>306.0</td>\n",
       "      <td>0.0</td>\n",
       "      <td>0.0</td>\n",
       "      <td>0.125</td>\n",
       "      <td>0.125</td>\n",
       "      <td>0.0</td>\n",
       "      <td>0.0</td>\n",
       "      <td>0</td>\n",
       "      <td>2</td>\n",
       "      <td>6000.0</td>\n",
       "      <td>101.986927</td>\n",
       "      <td>118.324082</td>\n",
       "      <td>0.0</td>\n",
       "    </tr>\n",
       "  </tbody>\n",
       "</table>\n",
       "</div>"
      ],
      "text/plain": [
       "   CUST_ID     BALANCE  BALANCE_FREQUENCY  PURCHASES  ONEOFF_PURCHASES  \\\n",
       "0     6075  757.964752              0.875      157.4             157.4   \n",
       "1     6291  264.566591              0.375     1150.0            1150.0   \n",
       "2     7755  440.613643              1.000      600.0             600.0   \n",
       "3     8299  611.561026              1.000      765.0             765.0   \n",
       "4     8805  105.333584              0.375      306.0             306.0   \n",
       "\n",
       "   INSTALLMENTS_PURCHASES  CASH_ADVANCE  PURCHASES_FREQUENCY  \\\n",
       "0                     0.0           0.0                0.125   \n",
       "1                     0.0           0.0                0.125   \n",
       "2                     0.0           0.0                0.125   \n",
       "3                     0.0           0.0                0.125   \n",
       "4                     0.0           0.0                0.125   \n",
       "\n",
       "   ONEOFF_PURCHASES_FREQUENCY  PURCHASES_INSTALLMENTS_FREQUENCY  \\\n",
       "0                       0.125                               0.0   \n",
       "1                       0.125                               0.0   \n",
       "2                       0.125                               0.0   \n",
       "3                       0.125                               0.0   \n",
       "4                       0.125                               0.0   \n",
       "\n",
       "   CASH_ADVANCE_FREQUENCY  CASH_ADVANCE_TRX  PURCHASES_TRX  CREDIT_LIMIT  \\\n",
       "0                     0.0                 0              6        1200.0   \n",
       "1                     0.0                 0              1        1200.0   \n",
       "2                     0.0                 0              1        1000.0   \n",
       "3                     0.0                 0              1        2000.0   \n",
       "4                     0.0                 0              2        6000.0   \n",
       "\n",
       "      PAYMENTS  MINIMUM_PAYMENTS  PRC_FULL_PAYMENT  \n",
       "0  1494.480376       2638.598410               0.0  \n",
       "1  3029.380326         85.428885               0.0  \n",
       "2   215.316424        137.846006               0.0  \n",
       "3   204.464151        146.352314               0.0  \n",
       "4   101.986927        118.324082               0.0  "
      ]
     },
     "execution_count": 37,
     "metadata": {},
     "output_type": "execute_result"
    }
   ],
   "source": [
    "X.head()"
   ]
  },
  {
   "cell_type": "code",
   "execution_count": 85,
   "metadata": {},
   "outputs": [],
   "source": [
    "import matplotlib.pyplot as plt\n",
    "import numpy as np"
   ]
  },
  {
   "cell_type": "code",
   "execution_count": 88,
   "metadata": {},
   "outputs": [],
   "source": [
    "import numpy as np\n",
    "\n",
    "# Needed for plotting\n",
    "import matplotlib.colors\n",
    "import matplotlib.pyplot as plt\n",
    "from mpl_toolkits.mplot3d import Axes3D\n",
    "\n",
    "# Needed for generating classification, regression and clustering datasets\n",
    "import sklearn.datasets as dt\n",
    "\n",
    "# Needed for generating data from an existing dataset\n",
    "from sklearn.neighbors import KernelDensity\n",
    "from sklearn.model_selection import GridSearchCV"
   ]
  },
  {
   "cell_type": "code",
   "execution_count": 89,
   "metadata": {},
   "outputs": [],
   "source": [
    "# Define the seed so that results can be reproduced\n",
    "seed = 11\n",
    "rand_state = 11\n",
    "\n",
    "# Define the color maps for plots\n",
    "color_map = plt.cm.get_cmap('RdYlBu')\n",
    "color_map_discrete = matplotlib.colors.LinearSegmentedColormap.from_list(\"\", [\"red\",\"cyan\",\"magenta\",\"blue\"])"
   ]
  },
  {
   "cell_type": "code",
   "execution_count": 90,
   "metadata": {},
   "outputs": [],
   "source": [
    "rand = np.random.RandomState(seed)\n",
    "\n",
    "dist_list = ['uniform','normal','exponential','lognormal','chisquare','beta']\n",
    "param_list = ['-1,1','0,1','1','0,1','2','0.5,0.9']\n",
    "colors_list = ['green','blue','yellow','cyan','magenta','pink']"
   ]
  },
  {
   "cell_type": "code",
   "execution_count": 91,
   "metadata": {},
   "outputs": [
    {
     "data": {
      "image/png": "[encoded data removed]",
      "text/plain": [
       "<Figure size 864x504 with 6 Axes>"
      ]
     },
     "metadata": {
      "needs_background": "light"
     },
     "output_type": "display_data"
    }
   ],
   "source": [
    "fig,ax = plt.subplots(nrows=2, ncols=3,figsize=(12,7))\n",
    "plt_ind_list = np.arange(6)+231\n",
    "\n",
    "for dist, plt_ind, param, colors in zip(dist_list, plt_ind_list, param_list, colors_list):\n",
    "    x = eval('rand.'+dist+'('+param+',5000)')\n",
    "\n",
    "    plt.subplot(plt_ind)\n",
    "    plt.hist(x,bins=50,color=colors)\n",
    "    plt.title(dist)\n",
    "\n",
    "fig.subplots_adjust(hspace=0.4,wspace=.3) \n",
    "plt.suptitle('Sampling from Various Distributions',fontsize=20)\n",
    "plt.show()"
   ]
  },
  {
   "cell_type": "code",
   "execution_count": 92,
   "metadata": {},
   "outputs": [
    {
     "data": {
      "image/png": "[encoded data removed]",
      "text/plain": [
       "<Figure size 1152x504 with 12 Axes>"
      ]
     },
     "metadata": {
      "needs_background": "light"
     },
     "output_type": "display_data"
    }
   ],
   "source": [
    "map_colors = plt.cm.get_cmap('RdYlBu')\n",
    "fig,ax = plt.subplots(nrows=2, ncols=3,figsize=(16,7))\n",
    "plt_ind_list = np.arange(6)+231\n",
    "\n",
    "for noise,plt_ind in zip([0,0.1,1,10,100,1000],plt_ind_list): \n",
    "    x,y = dt.make_regression(n_samples=1000,\n",
    "                             n_features=2,\n",
    "                             noise=noise,\n",
    "                             random_state=rand_state)\n",
    "\n",
    "    plt.subplot(plt_ind)\n",
    "    my_scatter_plot = plt.scatter(x[:,0],\n",
    "                                  x[:,1],\n",
    "                                  c=y,\n",
    "                                  vmin=min(y),\n",
    "                                  vmax=max(y),\n",
    "                                  s=35,\n",
    "                                  cmap=color_map)\n",
    "    \n",
    "    plt.title('noise: '+str(noise))\n",
    "    plt.colorbar(my_scatter_plot)\n",
    "    \n",
    "fig.subplots_adjust(hspace=0.3,wspace=.3)\n",
    "plt.suptitle('make_regression() With Different Noise Levels',fontsize=20)\n",
    "plt.show()"
   ]
  },
  {
   "cell_type": "code",
   "execution_count": 93,
   "metadata": {},
   "outputs": [],
   "source": [
    "o,p = dt.make_regression(n_samples=1000,\n",
    "                             n_features=3,\n",
    "                             noise=noise,\n",
    "                             random_state=rand_state)\n"
   ]
  },
  {
   "cell_type": "code",
   "execution_count": 96,
   "metadata": {},
   "outputs": [
    {
     "data": {
      "text/plain": [
       "1000"
      ]
     },
     "execution_count": 96,
     "metadata": {},
     "output_type": "execute_result"
    }
   ],
   "source": [
    "len(o)"
   ]
  },
  {
   "cell_type": "code",
   "execution_count": 97,
   "metadata": {},
   "outputs": [
    {
     "data": {
      "text/plain": [
       "1000"
      ]
     },
     "execution_count": 97,
     "metadata": {},
     "output_type": "execute_result"
    }
   ],
   "source": [
    "len(p)"
   ]
  },
  {
   "cell_type": "code",
   "execution_count": null,
   "metadata": {},
   "outputs": [],
   "source": []
  }
 ],
 "metadata": {
  "kernelspec": {
   "display_name": ".venv",
   "language": "python",
   "name": "python3"
  },
  "language_info": {
   "codemirror_mode": {
    "name": "ipython",
    "version": 3
   },
   "file_extension": ".py",
   "mimetype": "text/x-python",
   "name": "python",
   "nbconvert_exporter": "python",
   "pygments_lexer": "ipython3",
   "version": "3.10.8"
  },
  "orig_nbformat": 4
 },
 "nbformat": 4,
 "nbformat_minor": 2
}
